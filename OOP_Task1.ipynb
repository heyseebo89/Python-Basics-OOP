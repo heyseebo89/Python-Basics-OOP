{
  "nbformat": 4,
  "nbformat_minor": 0,
  "metadata": {
    "colab": {
      "name": "OOP_Task1.ipynb",
      "provenance": [],
      "authorship_tag": "ABX9TyNR45Vi7XylCpUXQgdg9W8L",
      "include_colab_link": true
    },
    "kernelspec": {
      "name": "python3",
      "display_name": "Python 3"
    },
    "language_info": {
      "name": "python"
    }
  },
  "cells": [
    {
      "cell_type": "markdown",
      "metadata": {
        "id": "view-in-github",
        "colab_type": "text"
      },
      "source": [
        "<a href=\"https://colab.research.google.com/github/heyseebo89/Python-Basics-OOP/blob/main/OOP_Task1.ipynb\" target=\"_parent\"><img src=\"https://colab.research.google.com/assets/colab-badge.svg\" alt=\"Open In Colab\"/></a>"
      ]
    },
    {
      "cell_type": "code",
      "metadata": {
        "id": "SBc2bPW-rSH_"
      },
      "source": [
        "#1\n",
        "def isLeapYear(year):\n",
        "  if year%400 == 0:\n",
        "    return True\n",
        "  elif year%4 == 0 and year%100 !=0:\n",
        "    return True\n",
        "  else:\n",
        "    return False\n",
        "years = [200, 480, 2800, 3000]\n",
        "for year in years:\n",
        "  if isLeapYear(year) == True:\n",
        "    print(\"{0} is a leap year\".format(year))\n",
        "  else:\n",
        "    print(\"{0} is not a leap year\".format(year))"
      ],
      "execution_count": null,
      "outputs": []
    },
    {
      "cell_type": "code",
      "metadata": {
        "id": "J9Nmj_cFrVRb"
      },
      "source": [
        "#2\n",
        "n= int(input(\"enter an integer here : \\n\"))\n",
        "if((n%2 != 0)):\n",
        "    print(\"Weird\")\n",
        "elif((n%2 == 0) and n in  range(2,6)):\n",
        "    print(\"Not Weird\")\n",
        "elif((n%2 == 0) and  n in range(6,21)):\n",
        "    print(\"Weird\")\n",
        "elif((n%2)== 0 and n>20 ):\n",
        "    print(\"Not Weird\")"
      ],
      "execution_count": null,
      "outputs": []
    },
    {
      "cell_type": "code",
      "metadata": {
        "id": "aZJfynkJrkQd"
      },
      "source": [
        "#3\n",
        "def isFashionablyLate(guests, guest):\n",
        "  mid = int(len(guests)/2) - 1    #As mid represents index, not position, we subtract 1\n",
        "  k = 0\n",
        "  guestIndex = None\n",
        "  for i in guests:\n",
        "    if i == guest:\n",
        "      guestIndex = k\n",
        "      break\n",
        "    k+=1\n",
        "  if guestIndex != None:\n",
        "    if guestIndex > mid and guestIndex != len(guests)-1:\n",
        "      print(\"{0} is fashionably late.\".format(guest))\n",
        "    else:\n",
        "      print(\"{0} isn't fashionably late.\".format(guest))\n",
        "  else:\n",
        "    print(\"Name is not present in the guest list.\") \n",
        "\n",
        "Arrivals = ['Hardik', 'Rahul', 'Virat', 'Rishabh', 'Mahi', 'Rohit', 'Rahane']\n",
        "isFashionablyLate(Arrivals, 'Virat')\n",
        "isFashionablyLate(Arrivals, 'Rishabh')\n",
        "isFashionablyLate(Arrivals, 'Rahane')"
      ],
      "execution_count": null,
      "outputs": []
    },
    {
      "cell_type": "code",
      "metadata": {
        "id": "IgINywwNrtQ5"
      },
      "source": [
        "#4\n",
        "import re\n",
        "def filterDocs(articles, term):\n",
        "  newList = []\n",
        "  for i in articles:\n",
        "    cleanText = re.sub(r'[^A-Za-z0-9 ]+', '', i)\n",
        "    if cleanText.lower().count(term.lower()) > 0:\n",
        "      words = cleanText.split()\n",
        "      words = [x.lower() for x in words]\n",
        "      if term.lower() in words:\n",
        "        newList.append(i)\n",
        "  return newList"
      ],
      "execution_count": null,
      "outputs": []
    },
    {
      "cell_type": "code",
      "metadata": {
        "id": "rfqdP189r6JF"
      },
      "source": [
        "#5\n",
        "def gross_pay(bp,da,hra):\n",
        "    sum =bp+da+hra\n",
        "    return sum\n",
        "bp = int(input(\"Enter your Basic pay here : \\n\"))\n",
        "da = 0.4*bp\n",
        "hra =0.2*bp\n",
        "gp = gross_pay(bp,da,hra)\n",
        "print(gp)"
      ],
      "execution_count": null,
      "outputs": []
    }
  ]
}